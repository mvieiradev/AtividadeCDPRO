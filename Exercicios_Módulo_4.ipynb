{
 "cells": [
  {
   "cell_type": "markdown",
   "metadata": {
    "id": "eIS9fe7TVr8C"
   },
   "source": [
    "## Exercícios \n",
    "\n",
    "Nesta lista de exercícios você vai colocar em prática um pouco do que aprendemos nesse módulo 4. O código para carregar o dataset já está disponível para você. Leia cada exercício atentamente e coloque em prática suas habilidades analíticas. Quero que seja curioso. Todas as questões podem ser resolvidas com tudo já estudado até aqui no curso e consulte a documentação Python/Pandas/Numpy se necessário! Simbóra!"
   ]
  },
  {
   "cell_type": "code",
   "execution_count": 91,
   "metadata": {
    "id": "KhTQUp9cVr8D"
   },
   "outputs": [],
   "source": [
    "import numpy as np\n",
    "import pandas as pd\n",
    "import matplotlib.pyplot as plt\n",
    "%matplotlib inline"
   ]
  },
  {
   "cell_type": "code",
   "execution_count": 129,
   "metadata": {
    "id": "bKk6RytuVu0j"
   },
   "outputs": [],
   "source": [
    "df = pd.read_csv('exercicios_m4.csv', parse_dates = ['Data'], usecols = list(range(0,6)))"
   ]
  },
  {
   "cell_type": "code",
   "execution_count": 93,
   "metadata": {
    "colab": {
     "base_uri": "https://localhost:8080/",
     "height": 138
    },
    "id": "ye9sLTrIVr8S",
    "outputId": "35b95926-a658-4027-dc4e-96aa2a978086"
   },
   "outputs": [
    {
     "data": {
      "text/plain": [
       "Data          datetime64[ns]\n",
       "Distancia            float64\n",
       "Tempo                 object\n",
       "Segundos             float64\n",
       "Minutos              float64\n",
       "Min_Por_Km           float64\n",
       "dtype: object"
      ]
     },
     "execution_count": 93,
     "metadata": {},
     "output_type": "execute_result"
    }
   ],
   "source": [
    "df.dtypes"
   ]
  },
  {
   "cell_type": "code",
   "execution_count": 94,
   "metadata": {
    "colab": {
     "base_uri": "https://localhost:8080/",
     "height": 198
    },
    "id": "YKBYhcdMVr8Z",
    "outputId": "f3ee9028-2398-4555-bbce-d6a9953d9279",
    "scrolled": true
   },
   "outputs": [
    {
     "data": {
      "text/html": [
       "<div>\n",
       "<style scoped>\n",
       "    .dataframe tbody tr th:only-of-type {\n",
       "        vertical-align: middle;\n",
       "    }\n",
       "\n",
       "    .dataframe tbody tr th {\n",
       "        vertical-align: top;\n",
       "    }\n",
       "\n",
       "    .dataframe thead th {\n",
       "        text-align: right;\n",
       "    }\n",
       "</style>\n",
       "<table border=\"1\" class=\"dataframe\">\n",
       "  <thead>\n",
       "    <tr style=\"text-align: right;\">\n",
       "      <th></th>\n",
       "      <th>Data</th>\n",
       "      <th>Distancia</th>\n",
       "      <th>Tempo</th>\n",
       "      <th>Segundos</th>\n",
       "      <th>Minutos</th>\n",
       "      <th>Min_Por_Km</th>\n",
       "    </tr>\n",
       "  </thead>\n",
       "  <tbody>\n",
       "    <tr>\n",
       "      <th>0</th>\n",
       "      <td>2015-08-02</td>\n",
       "      <td>1.70</td>\n",
       "      <td>NaN</td>\n",
       "      <td>NaN</td>\n",
       "      <td>NaN</td>\n",
       "      <td>NaN</td>\n",
       "    </tr>\n",
       "    <tr>\n",
       "      <th>1</th>\n",
       "      <td>2015-08-03</td>\n",
       "      <td>1.40</td>\n",
       "      <td>NaN</td>\n",
       "      <td>NaN</td>\n",
       "      <td>NaN</td>\n",
       "      <td>NaN</td>\n",
       "    </tr>\n",
       "    <tr>\n",
       "      <th>2</th>\n",
       "      <td>2015-08-04</td>\n",
       "      <td>2.10</td>\n",
       "      <td>NaN</td>\n",
       "      <td>NaN</td>\n",
       "      <td>NaN</td>\n",
       "      <td>NaN</td>\n",
       "    </tr>\n",
       "    <tr>\n",
       "      <th>3</th>\n",
       "      <td>2015-08-06</td>\n",
       "      <td>2.38</td>\n",
       "      <td>NaN</td>\n",
       "      <td>NaN</td>\n",
       "      <td>NaN</td>\n",
       "      <td>NaN</td>\n",
       "    </tr>\n",
       "    <tr>\n",
       "      <th>4</th>\n",
       "      <td>2015-08-07</td>\n",
       "      <td>2.30</td>\n",
       "      <td>NaN</td>\n",
       "      <td>NaN</td>\n",
       "      <td>NaN</td>\n",
       "      <td>NaN</td>\n",
       "    </tr>\n",
       "  </tbody>\n",
       "</table>\n",
       "</div>"
      ],
      "text/plain": [
       "        Data  Distancia Tempo  Segundos  Minutos  Min_Por_Km\n",
       "0 2015-08-02       1.70   NaN       NaN      NaN         NaN\n",
       "1 2015-08-03       1.40   NaN       NaN      NaN         NaN\n",
       "2 2015-08-04       2.10   NaN       NaN      NaN         NaN\n",
       "3 2015-08-06       2.38   NaN       NaN      NaN         NaN\n",
       "4 2015-08-07       2.30   NaN       NaN      NaN         NaN"
      ]
     },
     "execution_count": 94,
     "metadata": {},
     "output_type": "execute_result"
    }
   ],
   "source": [
    "df.sort_index(inplace = True)\n",
    "df.head()"
   ]
  },
  {
   "cell_type": "code",
   "execution_count": 95,
   "metadata": {},
   "outputs": [
    {
     "data": {
      "text/plain": [
       "(81, 6)"
      ]
     },
     "execution_count": 95,
     "metadata": {},
     "output_type": "execute_result"
    }
   ],
   "source": [
    "df.shape"
   ]
  },
  {
   "cell_type": "code",
   "execution_count": 96,
   "metadata": {
    "scrolled": true
   },
   "outputs": [
    {
     "data": {
      "text/html": [
       "<div>\n",
       "<style scoped>\n",
       "    .dataframe tbody tr th:only-of-type {\n",
       "        vertical-align: middle;\n",
       "    }\n",
       "\n",
       "    .dataframe tbody tr th {\n",
       "        vertical-align: top;\n",
       "    }\n",
       "\n",
       "    .dataframe thead th {\n",
       "        text-align: right;\n",
       "    }\n",
       "</style>\n",
       "<table border=\"1\" class=\"dataframe\">\n",
       "  <thead>\n",
       "    <tr style=\"text-align: right;\">\n",
       "      <th></th>\n",
       "      <th>Data</th>\n",
       "      <th>Distancia</th>\n",
       "      <th>Tempo</th>\n",
       "      <th>Segundos</th>\n",
       "      <th>Minutos</th>\n",
       "      <th>Min_Por_Km</th>\n",
       "    </tr>\n",
       "  </thead>\n",
       "  <tbody>\n",
       "    <tr>\n",
       "      <th>0</th>\n",
       "      <td>2015-08-02</td>\n",
       "      <td>1.70</td>\n",
       "      <td>NaN</td>\n",
       "      <td>NaN</td>\n",
       "      <td>NaN</td>\n",
       "      <td>NaN</td>\n",
       "    </tr>\n",
       "    <tr>\n",
       "      <th>1</th>\n",
       "      <td>2015-08-03</td>\n",
       "      <td>1.40</td>\n",
       "      <td>NaN</td>\n",
       "      <td>NaN</td>\n",
       "      <td>NaN</td>\n",
       "      <td>NaN</td>\n",
       "    </tr>\n",
       "    <tr>\n",
       "      <th>2</th>\n",
       "      <td>2015-08-04</td>\n",
       "      <td>2.10</td>\n",
       "      <td>NaN</td>\n",
       "      <td>NaN</td>\n",
       "      <td>NaN</td>\n",
       "      <td>NaN</td>\n",
       "    </tr>\n",
       "    <tr>\n",
       "      <th>3</th>\n",
       "      <td>2015-08-06</td>\n",
       "      <td>2.38</td>\n",
       "      <td>NaN</td>\n",
       "      <td>NaN</td>\n",
       "      <td>NaN</td>\n",
       "      <td>NaN</td>\n",
       "    </tr>\n",
       "    <tr>\n",
       "      <th>4</th>\n",
       "      <td>2015-08-07</td>\n",
       "      <td>2.30</td>\n",
       "      <td>NaN</td>\n",
       "      <td>NaN</td>\n",
       "      <td>NaN</td>\n",
       "      <td>NaN</td>\n",
       "    </tr>\n",
       "    <tr>\n",
       "      <th>...</th>\n",
       "      <td>...</td>\n",
       "      <td>...</td>\n",
       "      <td>...</td>\n",
       "      <td>...</td>\n",
       "      <td>...</td>\n",
       "      <td>...</td>\n",
       "    </tr>\n",
       "    <tr>\n",
       "      <th>76</th>\n",
       "      <td>2015-12-24</td>\n",
       "      <td>3.05</td>\n",
       "      <td>0:25:08</td>\n",
       "      <td>1508.0</td>\n",
       "      <td>25.133333</td>\n",
       "      <td>8.240437</td>\n",
       "    </tr>\n",
       "    <tr>\n",
       "      <th>77</th>\n",
       "      <td>2015-12-25</td>\n",
       "      <td>14.80</td>\n",
       "      <td>2:20:00</td>\n",
       "      <td>8400.0</td>\n",
       "      <td>140.000000</td>\n",
       "      <td>9.459459</td>\n",
       "    </tr>\n",
       "    <tr>\n",
       "      <th>78</th>\n",
       "      <td>2015-12-26</td>\n",
       "      <td>5.20</td>\n",
       "      <td>NaN</td>\n",
       "      <td>NaN</td>\n",
       "      <td>NaN</td>\n",
       "      <td>NaN</td>\n",
       "    </tr>\n",
       "    <tr>\n",
       "      <th>79</th>\n",
       "      <td>2015-12-30</td>\n",
       "      <td>3.15</td>\n",
       "      <td>0:22:10</td>\n",
       "      <td>1330.0</td>\n",
       "      <td>22.166667</td>\n",
       "      <td>7.037037</td>\n",
       "    </tr>\n",
       "    <tr>\n",
       "      <th>80</th>\n",
       "      <td>2016-01-01</td>\n",
       "      <td>26.20</td>\n",
       "      <td>4:20:43</td>\n",
       "      <td>15643.0</td>\n",
       "      <td>260.716667</td>\n",
       "      <td>9.951018</td>\n",
       "    </tr>\n",
       "  </tbody>\n",
       "</table>\n",
       "<p>81 rows × 6 columns</p>\n",
       "</div>"
      ],
      "text/plain": [
       "         Data  Distancia    Tempo  Segundos     Minutos  Min_Por_Km\n",
       "0  2015-08-02       1.70      NaN       NaN         NaN         NaN\n",
       "1  2015-08-03       1.40      NaN       NaN         NaN         NaN\n",
       "2  2015-08-04       2.10      NaN       NaN         NaN         NaN\n",
       "3  2015-08-06       2.38      NaN       NaN         NaN         NaN\n",
       "4  2015-08-07       2.30      NaN       NaN         NaN         NaN\n",
       "..        ...        ...      ...       ...         ...         ...\n",
       "76 2015-12-24       3.05  0:25:08    1508.0   25.133333    8.240437\n",
       "77 2015-12-25      14.80  2:20:00    8400.0  140.000000    9.459459\n",
       "78 2015-12-26       5.20      NaN       NaN         NaN         NaN\n",
       "79 2015-12-30       3.15  0:22:10    1330.0   22.166667    7.037037\n",
       "80 2016-01-01      26.20  4:20:43   15643.0  260.716667    9.951018\n",
       "\n",
       "[81 rows x 6 columns]"
      ]
     },
     "execution_count": 96,
     "metadata": {},
     "output_type": "execute_result"
    }
   ],
   "source": [
    "df"
   ]
  },
  {
   "cell_type": "code",
   "execution_count": null,
   "metadata": {},
   "outputs": [],
   "source": []
  },
  {
   "cell_type": "code",
   "execution_count": 97,
   "metadata": {},
   "outputs": [
    {
     "data": {
      "text/plain": [
       "Data           0\n",
       "Distancia      0\n",
       "Tempo         29\n",
       "Segundos      29\n",
       "Minutos       29\n",
       "Min_Por_Km    29\n",
       "dtype: int64"
      ]
     },
     "execution_count": 97,
     "metadata": {},
     "output_type": "execute_result"
    }
   ],
   "source": [
    "df.isnull().sum()"
   ]
  },
  {
   "cell_type": "code",
   "execution_count": 98,
   "metadata": {
    "id": "QXZ6UDghVr8g"
   },
   "outputs": [],
   "source": [
    "# Exercício 1 - Qual o valor máximo da coluna Minutos?"
   ]
  },
  {
   "cell_type": "code",
   "execution_count": 99,
   "metadata": {},
   "outputs": [
    {
     "data": {
      "text/plain": [
       "260.71666666666664"
      ]
     },
     "execution_count": 99,
     "metadata": {},
     "output_type": "execute_result"
    }
   ],
   "source": [
    "max_minutos = df['Minutos'].max()\n",
    "max_minutos"
   ]
  },
  {
   "cell_type": "code",
   "execution_count": 100,
   "metadata": {
    "id": "stop1dQmXF3U"
   },
   "outputs": [],
   "source": [
    "# Exercício 2 - Qual o valor mínimo da coluna Minutos?"
   ]
  },
  {
   "cell_type": "code",
   "execution_count": 101,
   "metadata": {},
   "outputs": [
    {
     "data": {
      "text/plain": [
       "6.266666666666667"
      ]
     },
     "execution_count": 101,
     "metadata": {},
     "output_type": "execute_result"
    }
   ],
   "source": [
    "min_minutos = df['Minutos'].min()\n",
    "min_minutos"
   ]
  },
  {
   "cell_type": "code",
   "execution_count": 102,
   "metadata": {
    "id": "_OKLqKznXLMo"
   },
   "outputs": [],
   "source": [
    "# Exercício 3 - Qual o valor médio da coluna Minutos?"
   ]
  },
  {
   "cell_type": "code",
   "execution_count": 103,
   "metadata": {},
   "outputs": [
    {
     "data": {
      "text/plain": [
       "31.69647435897436"
      ]
     },
     "execution_count": 103,
     "metadata": {},
     "output_type": "execute_result"
    }
   ],
   "source": [
    "media_minutos = df['Minutos'].mean() \n",
    "media_minutos"
   ]
  },
  {
   "cell_type": "code",
   "execution_count": 104,
   "metadata": {
    "id": "5f1UT4AwVr8l"
   },
   "outputs": [],
   "source": [
    "# Exercício 4 - Qual o valor mínimo de distância acima de 2.0?"
   ]
  },
  {
   "cell_type": "code",
   "execution_count": 148,
   "metadata": {},
   "outputs": [
    {
     "data": {
      "text/plain": [
       "2.01"
      ]
     },
     "execution_count": 148,
     "metadata": {},
     "output_type": "execute_result"
    }
   ],
   "source": [
    "df.Distancia[df.Distancia > 2.0].min() "
   ]
  },
  {
   "cell_type": "code",
   "execution_count": 143,
   "metadata": {},
   "outputs": [
    {
     "name": "stdout",
     "output_type": "stream",
     "text": [
      "Valores mínimos de cada coluna acima de 2.0:\n",
      "{'Data': 'Coluna não numérica', 'Distancia': 2.01, 'Tempo': 'Coluna não numérica', 'Segundos': 376.0, 'Minutos': 6.266666666666667, 'Min_Por_Km': 6.0}\n"
     ]
    }
   ],
   "source": [
    "\n",
    "valores_minimos_acima_de_2 = {}\n",
    "for coluna in df.columns:\n",
    "    if pd.api.types.is_numeric_dtype(df[coluna]):\n",
    "        distancias_acima_de_2 = df[df[coluna] > 2.0]\n",
    "        valor_minimo_acima_de_2 = distancias_acima_de_2[coluna].min()\n",
    "        valores_minimos_acima_de_2[coluna] = valor_minimo_acima_de_2\n",
    "    else:\n",
    "        # Se a coluna for do tipo datetime64[ns], você pode querer fazer outro tipo de filtragem ou tratamento\n",
    "        valores_minimos_acima_de_2[coluna] = \"Coluna não numérica\"\n",
    "\n",
    "print(\"Valores mínimos de cada coluna acima de 2.0:\")\n",
    "print(valores_minimos_acima_de_2)"
   ]
  },
  {
   "cell_type": "code",
   "execution_count": 31,
   "metadata": {
    "id": "MVeUFFIrVr8y"
   },
   "outputs": [],
   "source": [
    "# Exercício 5 - Qual a data no índice de posição zero?"
   ]
  },
  {
   "cell_type": "code",
   "execution_count": 110,
   "metadata": {},
   "outputs": [
    {
     "data": {
      "text/plain": [
       "0   2015-08-02\n",
       "Name: Data, dtype: datetime64[ns]"
      ]
     },
     "execution_count": 110,
     "metadata": {},
     "output_type": "execute_result"
    }
   ],
   "source": [
    "df_indice_0 = data['Data'].head(1)\n",
    "df_indice_0"
   ]
  },
  {
   "cell_type": "code",
   "execution_count": 32,
   "metadata": {
    "id": "N9fkNPlgZJ6p"
   },
   "outputs": [],
   "source": [
    "# Exercício 6 - Extraia o dia da semana do valor do campo \"Data\" de índice [0] usando a função .strftime(\"%A\")"
   ]
  },
  {
   "cell_type": "code",
   "execution_count": 136,
   "metadata": {},
   "outputs": [
    {
     "data": {
      "text/plain": [
       "'Sunday'"
      ]
     },
     "execution_count": 136,
     "metadata": {},
     "output_type": "execute_result"
    }
   ],
   "source": [
    "df['Data'] = pd.to_datetime(df['Data'])\n",
    "\n",
    "# Extrair o dia da semana do valor no índice [0]\n",
    "dia_da_semana = df['Data'][0].strftime(\"%A\")\n",
    "\n",
    "dia_da_semana"
   ]
  },
  {
   "cell_type": "code",
   "execution_count": 33,
   "metadata": {
    "id": "mHwUeIfUVr83"
   },
   "outputs": [],
   "source": [
    "# Exercício 7 - Qual o data nos índices nas 5 primeiras posições?"
   ]
  },
  {
   "cell_type": "code",
   "execution_count": 151,
   "metadata": {},
   "outputs": [
    {
     "data": {
      "text/plain": [
       "0   2015-08-02\n",
       "1   2015-08-03\n",
       "2   2015-08-04\n",
       "3   2015-08-06\n",
       "4   2015-08-07\n",
       "Name: Data, dtype: datetime64[ns]"
      ]
     },
     "execution_count": 151,
     "metadata": {},
     "output_type": "execute_result"
    }
   ],
   "source": [
    "df['Data'].head(5)\n"
   ]
  },
  {
   "cell_type": "code",
   "execution_count": 34,
   "metadata": {
    "id": "DoUZscQqVr9I"
   },
   "outputs": [],
   "source": [
    "# Exercício 8 - Delete a coluna Tempo do dataframe data."
   ]
  },
  {
   "cell_type": "code",
   "execution_count": 112,
   "metadata": {},
   "outputs": [
    {
     "data": {
      "text/html": [
       "<div>\n",
       "<style scoped>\n",
       "    .dataframe tbody tr th:only-of-type {\n",
       "        vertical-align: middle;\n",
       "    }\n",
       "\n",
       "    .dataframe tbody tr th {\n",
       "        vertical-align: top;\n",
       "    }\n",
       "\n",
       "    .dataframe thead th {\n",
       "        text-align: right;\n",
       "    }\n",
       "</style>\n",
       "<table border=\"1\" class=\"dataframe\">\n",
       "  <thead>\n",
       "    <tr style=\"text-align: right;\">\n",
       "      <th></th>\n",
       "      <th>Data</th>\n",
       "      <th>Distancia</th>\n",
       "      <th>Segundos</th>\n",
       "      <th>Minutos</th>\n",
       "      <th>Min_Por_Km</th>\n",
       "    </tr>\n",
       "  </thead>\n",
       "  <tbody>\n",
       "    <tr>\n",
       "      <th>0</th>\n",
       "      <td>2015-08-02</td>\n",
       "      <td>1.70</td>\n",
       "      <td>NaN</td>\n",
       "      <td>NaN</td>\n",
       "      <td>NaN</td>\n",
       "    </tr>\n",
       "    <tr>\n",
       "      <th>1</th>\n",
       "      <td>2015-08-03</td>\n",
       "      <td>1.40</td>\n",
       "      <td>NaN</td>\n",
       "      <td>NaN</td>\n",
       "      <td>NaN</td>\n",
       "    </tr>\n",
       "    <tr>\n",
       "      <th>2</th>\n",
       "      <td>2015-08-04</td>\n",
       "      <td>2.10</td>\n",
       "      <td>NaN</td>\n",
       "      <td>NaN</td>\n",
       "      <td>NaN</td>\n",
       "    </tr>\n",
       "    <tr>\n",
       "      <th>3</th>\n",
       "      <td>2015-08-06</td>\n",
       "      <td>2.38</td>\n",
       "      <td>NaN</td>\n",
       "      <td>NaN</td>\n",
       "      <td>NaN</td>\n",
       "    </tr>\n",
       "    <tr>\n",
       "      <th>4</th>\n",
       "      <td>2015-08-07</td>\n",
       "      <td>2.30</td>\n",
       "      <td>NaN</td>\n",
       "      <td>NaN</td>\n",
       "      <td>NaN</td>\n",
       "    </tr>\n",
       "    <tr>\n",
       "      <th>...</th>\n",
       "      <td>...</td>\n",
       "      <td>...</td>\n",
       "      <td>...</td>\n",
       "      <td>...</td>\n",
       "      <td>...</td>\n",
       "    </tr>\n",
       "    <tr>\n",
       "      <th>76</th>\n",
       "      <td>2015-12-24</td>\n",
       "      <td>3.05</td>\n",
       "      <td>1508.0</td>\n",
       "      <td>25.133333</td>\n",
       "      <td>8.240437</td>\n",
       "    </tr>\n",
       "    <tr>\n",
       "      <th>77</th>\n",
       "      <td>2015-12-25</td>\n",
       "      <td>14.80</td>\n",
       "      <td>8400.0</td>\n",
       "      <td>140.000000</td>\n",
       "      <td>9.459459</td>\n",
       "    </tr>\n",
       "    <tr>\n",
       "      <th>78</th>\n",
       "      <td>2015-12-26</td>\n",
       "      <td>5.20</td>\n",
       "      <td>NaN</td>\n",
       "      <td>NaN</td>\n",
       "      <td>NaN</td>\n",
       "    </tr>\n",
       "    <tr>\n",
       "      <th>79</th>\n",
       "      <td>2015-12-30</td>\n",
       "      <td>3.15</td>\n",
       "      <td>1330.0</td>\n",
       "      <td>22.166667</td>\n",
       "      <td>7.037037</td>\n",
       "    </tr>\n",
       "    <tr>\n",
       "      <th>80</th>\n",
       "      <td>2016-01-01</td>\n",
       "      <td>26.20</td>\n",
       "      <td>15643.0</td>\n",
       "      <td>260.716667</td>\n",
       "      <td>9.951018</td>\n",
       "    </tr>\n",
       "  </tbody>\n",
       "</table>\n",
       "<p>81 rows × 5 columns</p>\n",
       "</div>"
      ],
      "text/plain": [
       "         Data  Distancia  Segundos     Minutos  Min_Por_Km\n",
       "0  2015-08-02       1.70       NaN         NaN         NaN\n",
       "1  2015-08-03       1.40       NaN         NaN         NaN\n",
       "2  2015-08-04       2.10       NaN         NaN         NaN\n",
       "3  2015-08-06       2.38       NaN         NaN         NaN\n",
       "4  2015-08-07       2.30       NaN         NaN         NaN\n",
       "..        ...        ...       ...         ...         ...\n",
       "76 2015-12-24       3.05    1508.0   25.133333    8.240437\n",
       "77 2015-12-25      14.80    8400.0  140.000000    9.459459\n",
       "78 2015-12-26       5.20       NaN         NaN         NaN\n",
       "79 2015-12-30       3.15    1330.0   22.166667    7.037037\n",
       "80 2016-01-01      26.20   15643.0  260.716667    9.951018\n",
       "\n",
       "[81 rows x 5 columns]"
      ]
     },
     "execution_count": 112,
     "metadata": {},
     "output_type": "execute_result"
    }
   ],
   "source": [
    "data_sem_tempo = df.drop(columns = ['Tempo'])\n",
    "data_sem_tempo"
   ]
  },
  {
   "cell_type": "code",
   "execution_count": 127,
   "metadata": {
    "id": "iIb5x1UcVr9T"
   },
   "outputs": [],
   "source": [
    "# Exercício 9 - Qual a média para cada uma das colunas por dia da semana?"
   ]
  },
  {
   "cell_type": "code",
   "execution_count": null,
   "metadata": {},
   "outputs": [],
   "source": [
    "df = pd.read_csv('exercicios_m4.csv', parse_dates = ['Data'], usecols = list(range(0,6)))"
   ]
  },
  {
   "cell_type": "code",
   "execution_count": 124,
   "metadata": {
    "scrolled": true
   },
   "outputs": [
    {
     "name": "stdout",
     "output_type": "stream",
     "text": [
      "Média para cada coluna por dia da semana:\n",
      "            Distancia  Tempo     Segundos    Minutos  Min_Por_Km\n",
      "Dia_Semana                                                      \n",
      "0            2.422727    NaN  1185.750000  19.762500    7.463840\n",
      "1            2.607143    NaN  1334.600000  22.243333    7.463291\n",
      "2            2.428182    NaN  1306.250000  21.770833    7.659706\n",
      "3            3.315000    NaN  1681.285714  28.021429    7.829348\n",
      "4            6.315000    NaN  5071.800000  84.530000    8.039543\n",
      "5            2.786000    NaN  1458.500000  24.308333    7.747657\n",
      "6            3.246429    NaN  2802.500000  46.708333    8.184961\n"
     ]
    }
   ],
   "source": [
    "df['Data'] = pd.to_datetime(df['Data'])\n",
    "\n",
    "# Extrai o dia da semana de cada data (0 = segunda-feira, 1 = terça-feira, ..., 6 = domingo)\n",
    "df['Dia_Semana'] = df['Data'].dt.dayofweek\n",
    "\n",
    "# Remova a coluna \"Data\", se ela não for mais necessária para o cálculo\n",
    "df.drop(columns=['Data'], inplace=True)\n",
    "\n",
    "# Converta todas as colunas numéricas para o tipo float (para lidar com eventuais dados não numéricos)\n",
    "df = df.apply(pd.to_numeric, errors='coerce')\n",
    "\n",
    "# Agrupe o DataFrame por dia da semana e calcule a média para cada coluna\n",
    "media_por_dia_semana = df.groupby('Dia_Semana').mean()\n",
    "\n",
    "print(\"Média para cada coluna por dia da semana:\")\n",
    "print(media_por_dia_semana)\n",
    "\n"
   ]
  },
  {
   "cell_type": "markdown",
   "metadata": {
    "id": "1odyDCNtVr9X"
   },
   "source": [
    "## FIM"
   ]
  },
  {
   "cell_type": "markdown",
   "metadata": {
    "id": "6EuSEsLxVr9Y"
   },
   "source": [
    "### Valeu - Ciência dos Dados - <a href=\"http://instagram.com/cienciadosdadosbr\">instagram.com/cienciadosdadosbr</a>"
   ]
  }
 ],
 "metadata": {
  "anaconda-cloud": {},
  "colab": {
   "collapsed_sections": [],
   "name": "Exercicios-Módulo 4.ipynb",
   "provenance": []
  },
  "kernelspec": {
   "display_name": "Python 3 (ipykernel)",
   "language": "python",
   "name": "python3"
  },
  "language_info": {
   "codemirror_mode": {
    "name": "ipython",
    "version": 3
   },
   "file_extension": ".py",
   "mimetype": "text/x-python",
   "name": "python",
   "nbconvert_exporter": "python",
   "pygments_lexer": "ipython3",
   "version": "3.11.2"
  }
 },
 "nbformat": 4,
 "nbformat_minor": 1
}
